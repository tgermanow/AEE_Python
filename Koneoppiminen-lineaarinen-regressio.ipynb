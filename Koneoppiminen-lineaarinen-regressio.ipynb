{
 "cells": [
  {
   "cell_type": "markdown",
   "metadata": {},
   "source": [
    "# Python ja tekoäly, koodauksen perusteet\n",
    "\n",
    "# Koulutus: 28.11.2019\n",
    "\n",
    "# Aihe: Lineaarinen regressio"
   ]
  },
  {
   "cell_type": "markdown",
   "metadata": {},
   "source": [
    "# Harjoitusesimerkki lineaarisesta regressiosta"
   ]
  },
  {
   "cell_type": "markdown",
   "metadata": {},
   "source": [
    "Tässä harjoituksessa rakennamme kokonaisen analyysiketjun, jossa ladataan data jollain opitulla tavalla. Datasta valitaan halutut muuttujat, ja tehdään ennustin. Ennustimen tarkkuus mitataan huolellisesti ristiinvalidoimalla."
   ]
  },
  {
   "cell_type": "markdown",
   "metadata": {},
   "source": [
    "Ensin tarvitaan kuitenkin tavalliset kirjastot, josta saamme tietorakenteita ja funktiota käyttöön:"
   ]
  },
  {
   "cell_type": "code",
   "execution_count": 43,
   "metadata": {},
   "outputs": [],
   "source": [
    "import numpy as np\n",
    "import pandas as pd"
   ]
  },
  {
   "cell_type": "code",
   "execution_count": 44,
   "metadata": {},
   "outputs": [],
   "source": [
    "from sklearn import datasets, linear_model\n",
    "from sklearn.metrics import mean_squared_error, r2_score\n",
    "from sklearn.model_selection import train_test_split"
   ]
  },
  {
   "cell_type": "markdown",
   "metadata": {},
   "source": [
    "# Mieti millaisen ennustusongelman haluat ratkaista ja lataa siihen liittyvä data\n",
    "\n",
    "Voit tutustua halutessasi Scikit-learn -kirastossa oleviin datajoukkoihin: https://scikit-learn.org/stable/datasets/index.html#"
   ]
  },
  {
   "cell_type": "code",
   "execution_count": 45,
   "metadata": {},
   "outputs": [],
   "source": [
    "# Voit korvata seuraavan haluamallasi datalla:\n",
    "\n",
    "matkat = pd.read_csv(\"ajetut_matkat.csv\")"
   ]
  },
  {
   "cell_type": "markdown",
   "metadata": {},
   "source": [
    "Katsotaan datan ominaisuuksia:"
   ]
  },
  {
   "cell_type": "code",
   "execution_count": 46,
   "metadata": {
    "scrolled": true
   },
   "outputs": [
    {
     "data": {
      "text/html": [
       "<div>\n",
       "<style scoped>\n",
       "    .dataframe tbody tr th:only-of-type {\n",
       "        vertical-align: middle;\n",
       "    }\n",
       "\n",
       "    .dataframe tbody tr th {\n",
       "        vertical-align: top;\n",
       "    }\n",
       "\n",
       "    .dataframe thead th {\n",
       "        text-align: right;\n",
       "    }\n",
       "</style>\n",
       "<table border=\"1\" class=\"dataframe\">\n",
       "  <thead>\n",
       "    <tr style=\"text-align: right;\">\n",
       "      <th></th>\n",
       "      <th>Matka</th>\n",
       "      <th>etaisyys</th>\n",
       "      <th>kulutus</th>\n",
       "    </tr>\n",
       "  </thead>\n",
       "  <tbody>\n",
       "    <tr>\n",
       "      <th>0</th>\n",
       "      <td>Espoo-Turku</td>\n",
       "      <td>134</td>\n",
       "      <td>10.80</td>\n",
       "    </tr>\n",
       "    <tr>\n",
       "      <th>1</th>\n",
       "      <td>Espoo-Turku</td>\n",
       "      <td>145</td>\n",
       "      <td>12.40</td>\n",
       "    </tr>\n",
       "    <tr>\n",
       "      <th>2</th>\n",
       "      <td>Espoo-Pori</td>\n",
       "      <td>211</td>\n",
       "      <td>16.50</td>\n",
       "    </tr>\n",
       "    <tr>\n",
       "      <th>3</th>\n",
       "      <td>Espoo-Jyvaskyla</td>\n",
       "      <td>234</td>\n",
       "      <td>22.10</td>\n",
       "    </tr>\n",
       "    <tr>\n",
       "      <th>4</th>\n",
       "      <td>Espoo-Helsnki</td>\n",
       "      <td>16</td>\n",
       "      <td>1.21</td>\n",
       "    </tr>\n",
       "    <tr>\n",
       "      <th>5</th>\n",
       "      <td>Espoo-Helsinki</td>\n",
       "      <td>21</td>\n",
       "      <td>1.93</td>\n",
       "    </tr>\n",
       "    <tr>\n",
       "      <th>6</th>\n",
       "      <td>Espoo-Tampere</td>\n",
       "      <td>152</td>\n",
       "      <td>14.20</td>\n",
       "    </tr>\n",
       "    <tr>\n",
       "      <th>7</th>\n",
       "      <td>Espoo-Lahti</td>\n",
       "      <td>103</td>\n",
       "      <td>9.26</td>\n",
       "    </tr>\n",
       "    <tr>\n",
       "      <th>8</th>\n",
       "      <td>Espoo-Vantaa</td>\n",
       "      <td>27</td>\n",
       "      <td>2.54</td>\n",
       "    </tr>\n",
       "    <tr>\n",
       "      <th>9</th>\n",
       "      <td>Espoo-Lohja</td>\n",
       "      <td>41</td>\n",
       "      <td>3.10</td>\n",
       "    </tr>\n",
       "  </tbody>\n",
       "</table>\n",
       "</div>"
      ],
      "text/plain": [
       "             Matka  etaisyys  kulutus\n",
       "0      Espoo-Turku       134    10.80\n",
       "1      Espoo-Turku       145    12.40\n",
       "2       Espoo-Pori       211    16.50\n",
       "3  Espoo-Jyvaskyla       234    22.10\n",
       "4    Espoo-Helsnki        16     1.21\n",
       "5   Espoo-Helsinki        21     1.93\n",
       "6    Espoo-Tampere       152    14.20\n",
       "7      Espoo-Lahti       103     9.26\n",
       "8     Espoo-Vantaa        27     2.54\n",
       "9      Espoo-Lohja        41     3.10"
      ]
     },
     "execution_count": 46,
     "metadata": {},
     "output_type": "execute_result"
    }
   ],
   "source": [
    "matkat"
   ]
  },
  {
   "cell_type": "code",
   "execution_count": 47,
   "metadata": {},
   "outputs": [
    {
     "data": {
      "text/html": [
       "<div>\n",
       "<style scoped>\n",
       "    .dataframe tbody tr th:only-of-type {\n",
       "        vertical-align: middle;\n",
       "    }\n",
       "\n",
       "    .dataframe tbody tr th {\n",
       "        vertical-align: top;\n",
       "    }\n",
       "\n",
       "    .dataframe thead th {\n",
       "        text-align: right;\n",
       "    }\n",
       "</style>\n",
       "<table border=\"1\" class=\"dataframe\">\n",
       "  <thead>\n",
       "    <tr style=\"text-align: right;\">\n",
       "      <th></th>\n",
       "      <th>Matka</th>\n",
       "      <th>etaisyys</th>\n",
       "      <th>kulutus</th>\n",
       "    </tr>\n",
       "  </thead>\n",
       "  <tbody>\n",
       "    <tr>\n",
       "      <th>0</th>\n",
       "      <td>Espoo-Turku</td>\n",
       "      <td>134</td>\n",
       "      <td>10.80</td>\n",
       "    </tr>\n",
       "    <tr>\n",
       "      <th>1</th>\n",
       "      <td>Espoo-Turku</td>\n",
       "      <td>145</td>\n",
       "      <td>12.40</td>\n",
       "    </tr>\n",
       "    <tr>\n",
       "      <th>2</th>\n",
       "      <td>Espoo-Pori</td>\n",
       "      <td>211</td>\n",
       "      <td>16.50</td>\n",
       "    </tr>\n",
       "    <tr>\n",
       "      <th>3</th>\n",
       "      <td>Espoo-Jyvaskyla</td>\n",
       "      <td>234</td>\n",
       "      <td>22.10</td>\n",
       "    </tr>\n",
       "    <tr>\n",
       "      <th>4</th>\n",
       "      <td>Espoo-Helsnki</td>\n",
       "      <td>16</td>\n",
       "      <td>1.21</td>\n",
       "    </tr>\n",
       "  </tbody>\n",
       "</table>\n",
       "</div>"
      ],
      "text/plain": [
       "             Matka  etaisyys  kulutus\n",
       "0      Espoo-Turku       134    10.80\n",
       "1      Espoo-Turku       145    12.40\n",
       "2       Espoo-Pori       211    16.50\n",
       "3  Espoo-Jyvaskyla       234    22.10\n",
       "4    Espoo-Helsnki        16     1.21"
      ]
     },
     "execution_count": 47,
     "metadata": {},
     "output_type": "execute_result"
    }
   ],
   "source": [
    "matkat.head()"
   ]
  },
  {
   "cell_type": "code",
   "execution_count": 48,
   "metadata": {},
   "outputs": [
    {
     "name": "stdout",
     "output_type": "stream",
     "text": [
      "<class 'pandas.core.frame.DataFrame'>\n",
      "RangeIndex: 10 entries, 0 to 9\n",
      "Data columns (total 3 columns):\n",
      "Matka       10 non-null object\n",
      "etaisyys    10 non-null int64\n",
      "kulutus     10 non-null float64\n",
      "dtypes: float64(1), int64(1), object(1)\n",
      "memory usage: 320.0+ bytes\n"
     ]
    }
   ],
   "source": [
    "matkat.info()"
   ]
  },
  {
   "cell_type": "code",
   "execution_count": 49,
   "metadata": {},
   "outputs": [
    {
     "data": {
      "text/html": [
       "<div>\n",
       "<style scoped>\n",
       "    .dataframe tbody tr th:only-of-type {\n",
       "        vertical-align: middle;\n",
       "    }\n",
       "\n",
       "    .dataframe tbody tr th {\n",
       "        vertical-align: top;\n",
       "    }\n",
       "\n",
       "    .dataframe thead th {\n",
       "        text-align: right;\n",
       "    }\n",
       "</style>\n",
       "<table border=\"1\" class=\"dataframe\">\n",
       "  <thead>\n",
       "    <tr style=\"text-align: right;\">\n",
       "      <th></th>\n",
       "      <th>etaisyys</th>\n",
       "      <th>kulutus</th>\n",
       "    </tr>\n",
       "  </thead>\n",
       "  <tbody>\n",
       "    <tr>\n",
       "      <th>count</th>\n",
       "      <td>10.000000</td>\n",
       "      <td>10.000000</td>\n",
       "    </tr>\n",
       "    <tr>\n",
       "      <th>mean</th>\n",
       "      <td>108.400000</td>\n",
       "      <td>9.404000</td>\n",
       "    </tr>\n",
       "    <tr>\n",
       "      <th>std</th>\n",
       "      <td>79.980831</td>\n",
       "      <td>7.112946</td>\n",
       "    </tr>\n",
       "    <tr>\n",
       "      <th>min</th>\n",
       "      <td>16.000000</td>\n",
       "      <td>1.210000</td>\n",
       "    </tr>\n",
       "    <tr>\n",
       "      <th>25%</th>\n",
       "      <td>30.500000</td>\n",
       "      <td>2.680000</td>\n",
       "    </tr>\n",
       "    <tr>\n",
       "      <th>50%</th>\n",
       "      <td>118.500000</td>\n",
       "      <td>10.030000</td>\n",
       "    </tr>\n",
       "    <tr>\n",
       "      <th>75%</th>\n",
       "      <td>150.250000</td>\n",
       "      <td>13.750000</td>\n",
       "    </tr>\n",
       "    <tr>\n",
       "      <th>max</th>\n",
       "      <td>234.000000</td>\n",
       "      <td>22.100000</td>\n",
       "    </tr>\n",
       "  </tbody>\n",
       "</table>\n",
       "</div>"
      ],
      "text/plain": [
       "         etaisyys    kulutus\n",
       "count   10.000000  10.000000\n",
       "mean   108.400000   9.404000\n",
       "std     79.980831   7.112946\n",
       "min     16.000000   1.210000\n",
       "25%     30.500000   2.680000\n",
       "50%    118.500000  10.030000\n",
       "75%    150.250000  13.750000\n",
       "max    234.000000  22.100000"
      ]
     },
     "execution_count": 49,
     "metadata": {},
     "output_type": "execute_result"
    }
   ],
   "source": [
    "matkat.describe()"
   ]
  },
  {
   "cell_type": "code",
   "execution_count": 50,
   "metadata": {},
   "outputs": [
    {
     "data": {
      "text/plain": [
       "Index(['Matka', 'etaisyys', 'kulutus'], dtype='object')"
      ]
     },
     "execution_count": 50,
     "metadata": {},
     "output_type": "execute_result"
    }
   ],
   "source": [
    "matkat.columns"
   ]
  },
  {
   "cell_type": "markdown",
   "metadata": {},
   "source": [
    "# Poimi x ja y muuttujat:\n",
    "\n",
    "Poimitaan Datasta etaisyys ja kulutus omiksi muuttujikseen"
   ]
  },
  {
   "cell_type": "code",
   "execution_count": 51,
   "metadata": {},
   "outputs": [],
   "source": [
    "x = matkat['etaisyys']"
   ]
  },
  {
   "cell_type": "code",
   "execution_count": 52,
   "metadata": {},
   "outputs": [],
   "source": [
    "y = matkat['kulutus']"
   ]
  },
  {
   "cell_type": "markdown",
   "metadata": {},
   "source": [
    "Joskus datan tyyppiä täytyy muokata, jos se on esim. kokonaislukuina"
   ]
  },
  {
   "cell_type": "code",
   "execution_count": 53,
   "metadata": {},
   "outputs": [],
   "source": [
    "x_f = x.astype(float)"
   ]
  },
  {
   "cell_type": "code",
   "execution_count": 54,
   "metadata": {},
   "outputs": [],
   "source": [
    "y_f = y.astype(float)"
   ]
  },
  {
   "cell_type": "markdown",
   "metadata": {},
   "source": [
    "Käytetään Matplotlib-kirjastoa kuvien piirtämiseen"
   ]
  },
  {
   "cell_type": "code",
   "execution_count": 55,
   "metadata": {},
   "outputs": [],
   "source": [
    "import matplotlib.pyplot as plt"
   ]
  },
  {
   "cell_type": "markdown",
   "metadata": {},
   "source": [
    "Piirretään opetusdata x-y -koordinaatistoon"
   ]
  },
  {
   "cell_type": "code",
   "execution_count": 56,
   "metadata": {},
   "outputs": [
    {
     "data": {
      "text/plain": [
       "<matplotlib.collections.PathCollection at 0x1a1dc33f60>"
      ]
     },
     "execution_count": 56,
     "metadata": {},
     "output_type": "execute_result"
    },
    {
     "data": {
      "image/png": "[encoded data removed]",
      "text/plain": [
       "<Figure size 432x288 with 1 Axes>"
      ]
     },
     "metadata": {},
     "output_type": "display_data"
    }
   ],
   "source": [
    "plt.scatter(x,y)"
   ]
  },
  {
   "cell_type": "markdown",
   "metadata": {},
   "source": [
    "Käytetään kirjastoa scikit-learn:"
   ]
  },
  {
   "cell_type": "code",
   "execution_count": 57,
   "metadata": {},
   "outputs": [],
   "source": [
    "from sklearn.linear_model import LinearRegression"
   ]
  },
  {
   "cell_type": "markdown",
   "metadata": {},
   "source": [
    "# Opeta lineaarinen malli datasta"
   ]
  },
  {
   "cell_type": "code",
   "execution_count": 58,
   "metadata": {},
   "outputs": [],
   "source": [
    "lm = LinearRegression(fit_intercept=True)"
   ]
  },
  {
   "cell_type": "code",
   "execution_count": 59,
   "metadata": {},
   "outputs": [
    {
     "data": {
      "text/plain": [
       "0    134\n",
       "1    145\n",
       "2    211\n",
       "3    234\n",
       "4     16\n",
       "5     21\n",
       "6    152\n",
       "7    103\n",
       "8     27\n",
       "9     41\n",
       "Name: etaisyys, dtype: int64"
      ]
     },
     "execution_count": 59,
     "metadata": {},
     "output_type": "execute_result"
    }
   ],
   "source": [
    "x"
   ]
  },
  {
   "cell_type": "code",
   "execution_count": 60,
   "metadata": {},
   "outputs": [
    {
     "data": {
      "text/plain": [
       "0    134.0\n",
       "1    145.0\n",
       "2    211.0\n",
       "3    234.0\n",
       "4     16.0\n",
       "5     21.0\n",
       "6    152.0\n",
       "7    103.0\n",
       "8     27.0\n",
       "9     41.0\n",
       "Name: etaisyys, dtype: float64"
      ]
     },
     "execution_count": 60,
     "metadata": {},
     "output_type": "execute_result"
    }
   ],
   "source": [
    "x_f"
   ]
  },
  {
   "cell_type": "code",
   "execution_count": 61,
   "metadata": {},
   "outputs": [
    {
     "data": {
      "text/plain": [
       "0    10.80\n",
       "1    12.40\n",
       "2    16.50\n",
       "3    22.10\n",
       "4     1.21\n",
       "5     1.93\n",
       "6    14.20\n",
       "7     9.26\n",
       "8     2.54\n",
       "9     3.10\n",
       "Name: kulutus, dtype: float64"
      ]
     },
     "execution_count": 61,
     "metadata": {},
     "output_type": "execute_result"
    }
   ],
   "source": [
    "y"
   ]
  },
  {
   "cell_type": "code",
   "execution_count": 62,
   "metadata": {},
   "outputs": [
    {
     "data": {
      "text/plain": [
       "array([10.8 , 12.4 , 16.5 , 22.1 ,  1.21,  1.93, 14.2 ,  9.26,  2.54,\n",
       "        3.1 ])"
      ]
     },
     "execution_count": 62,
     "metadata": {},
     "output_type": "execute_result"
    }
   ],
   "source": [
    "y.values"
   ]
  },
  {
   "cell_type": "code",
   "execution_count": 63,
   "metadata": {},
   "outputs": [
    {
     "data": {
      "text/plain": [
       "0    10.80\n",
       "1    12.40\n",
       "2    16.50\n",
       "3    22.10\n",
       "4     1.21\n",
       "5     1.93\n",
       "6    14.20\n",
       "7     9.26\n",
       "8     2.54\n",
       "9     3.10\n",
       "Name: kulutus, dtype: float64"
      ]
     },
     "execution_count": 63,
     "metadata": {},
     "output_type": "execute_result"
    }
   ],
   "source": [
    "y_f"
   ]
  },
  {
   "cell_type": "code",
   "execution_count": 64,
   "metadata": {},
   "outputs": [],
   "source": [
    "data_x = pd.DataFrame(x_f)"
   ]
  },
  {
   "cell_type": "code",
   "execution_count": 65,
   "metadata": {},
   "outputs": [],
   "source": [
    "data_y = pd.DataFrame(y_f)"
   ]
  },
  {
   "cell_type": "markdown",
   "metadata": {},
   "source": [
    "# Jaa data opetusjoukkoon ja validointijoukkoon:"
   ]
  },
  {
   "cell_type": "markdown",
   "metadata": {},
   "source": [
    "Opetetaan malli opetusdatasta, jätä toistaiseksi validointidata käyttämättä:"
   ]
  },
  {
   "cell_type": "code",
   "execution_count": 66,
   "metadata": {},
   "outputs": [],
   "source": [
    "data_x_opetus, data_x_validointi, data_y_opetus, data_y_validointi = train_test_split(\n",
    "...     data_x, data_y, test_size=0.2, random_state=0)"
   ]
  },
  {
   "cell_type": "code",
   "execution_count": 67,
   "metadata": {},
   "outputs": [
    {
     "data": {
      "text/plain": [
       "LinearRegression(copy_X=True, fit_intercept=True, n_jobs=None,\n",
       "         normalize=False)"
      ]
     },
     "execution_count": 67,
     "metadata": {},
     "output_type": "execute_result"
    }
   ],
   "source": [
    "# Lineaarinen malli sovitetaan opetusdataan:\n",
    "\n",
    "lm.fit(data_x_opetus,data_y_opetus)"
   ]
  },
  {
   "cell_type": "code",
   "execution_count": 68,
   "metadata": {},
   "outputs": [
    {
     "data": {
      "text/plain": [
       "LinearRegression(copy_X=True, fit_intercept=True, n_jobs=None,\n",
       "         normalize=False)"
      ]
     },
     "execution_count": 68,
     "metadata": {},
     "output_type": "execute_result"
    }
   ],
   "source": [
    "lm"
   ]
  },
  {
   "cell_type": "markdown",
   "metadata": {},
   "source": [
    "# Laske mallin opetusvirhe ja validointivirhe\n",
    "\n",
    "Käytetään mallia ennustamaan kulutusta ajettujen kilometrien perusteella:"
   ]
  },
  {
   "cell_type": "code",
   "execution_count": 69,
   "metadata": {},
   "outputs": [],
   "source": [
    "# Lasketaan lineaarisella mallilla ennustukset arvoille 0, 10, 20, ..\n",
    "predictions = lm.predict(np.arange(0,250,10).reshape(-1,1))"
   ]
  },
  {
   "cell_type": "code",
   "execution_count": 70,
   "metadata": {},
   "outputs": [
    {
     "data": {
      "text/plain": [
       "0.3789274226714724"
      ]
     },
     "execution_count": 70,
     "metadata": {},
     "output_type": "execute_result"
    }
   ],
   "source": [
    "# Lasketaan ennustusten opetusvirhe (MSE = mean squared error eli keskimääräinen neliövirhe)\n",
    "ennustukset_opetus = lm.predict(data_x_opetus)\n",
    "opetus_mse = mean_squared_error(data_y_opetus, ennustukset_opetus)\n",
    "opetus_mse"
   ]
  },
  {
   "cell_type": "code",
   "execution_count": 71,
   "metadata": {},
   "outputs": [
    {
     "data": {
      "text/plain": [
       "3.9134783022638717"
      ]
     },
     "execution_count": 71,
     "metadata": {},
     "output_type": "execute_result"
    }
   ],
   "source": [
    "# Lasketaan ennustusten validointivirhe\n",
    "ennustukset_validointi = lm.predict(data_x_validointi)\n",
    "validointi_mse = mean_squared_error(data_y_validointi, ennustukset_validointi)\n",
    "validointi_mse"
   ]
  },
  {
   "cell_type": "code",
   "execution_count": 72,
   "metadata": {
    "scrolled": true
   },
   "outputs": [
    {
     "data": {
      "text/plain": [
       "<matplotlib.collections.PathCollection at 0x1a1dd4e7b8>"
      ]
     },
     "execution_count": 72,
     "metadata": {},
     "output_type": "execute_result"
    },
    {
     "data": {
      "image/png": "[encoded data removed]",
      "text/plain": [
       "<Figure size 432x288 with 1 Axes>"
      ]
     },
     "metadata": {},
     "output_type": "display_data"
    }
   ],
   "source": [
    "plt.plot(np.arange(0,250,10),predictions,'-')\n",
    "plt.scatter(data_x,data_y)"
   ]
  },
  {
   "cell_type": "markdown",
   "metadata": {},
   "source": [
    "Nyt harjoitellaan ristiinvaidointia, jossa data jaetaan opetusjoukkoon ja validointijoukkoon monta kertaa. Kullekin jaolle opetetaan malli opetusdatalla ja mallille lasketaan sekä opetusvirhe että validointivirhe."
   ]
  },
  {
   "cell_type": "code",
   "execution_count": 73,
   "metadata": {},
   "outputs": [],
   "source": [
    "# Opetusvirheet tallennetaan taulukkoon:\n",
    "opetus_mse = np.zeros(10)\n",
    "opetus_r2 = np.zeros(10)\n",
    "\n",
    "# Validointivirheet tallenetaan taulukkoon:\n",
    "validointi_mse = np.zeros(10)\n",
    "validointi_r2 = np.zeros(10)\n",
    "\n",
    "# Toista jako opetus- ja validointidataan 10 kertaa, opeta\n",
    "# joka kerta uusi malli, jolle lasket opetusvirheen (opetusdatan\n",
    "# avulla) ja validointivirheen(validointidatan avulla)\n",
    "\n",
    "for i in np.arange(0,10):\n",
    "  data_x_opetus, data_x_validointi, data_y_opetus, data_y_validointi = train_test_split(data_x, data_y, test_size=0.2, random_state=689*i)\n",
    "\n",
    "  # Opetetaan malli tällä nimenomaisella jaolla!\n",
    "  lm.fit(data_x_opetus,data_y_opetus)\n",
    "\n",
    "  # Lasketaan ennustusten opetusvirhe (MSE ja R2):\n",
    "  ennustukset_opetus = lm.predict(data_x_opetus)\n",
    "  opetus_mse[i] = mean_squared_error(data_y_opetus, ennustukset_opetus)\n",
    "  opetus_r2[i] = r2_score(data_y_opetus, ennustukset_opetus)\n",
    "\n",
    "  # Lasketaan ennustusten validointivirhe (MSE ja R2):\n",
    "  ennustukset_validointi = lm.predict(data_x_validointi)\n",
    "  validointi_mse[i] = mean_squared_error(data_y_validointi, ennustukset_validointi)\n",
    "  validointi_r2[i] = r2_score(data_y_validointi, ennustukset_validointi)"
   ]
  },
  {
   "cell_type": "code",
   "execution_count": 74,
   "metadata": {},
   "outputs": [
    {
     "name": "stdout",
     "output_type": "stream",
     "text": [
      "[0.37892742 0.93459626 1.05090933 0.26027665 0.49836101 0.53488448\n",
      " 0.34026797 0.40729451 0.90776811 0.53488448]\n"
     ]
    }
   ],
   "source": [
    "# 10 toistoa, 10 virhettä (MSE):\n",
    "print(opetus_mse)"
   ]
  },
  {
   "cell_type": "code",
   "execution_count": 75,
   "metadata": {},
   "outputs": [
    {
     "name": "stdout",
     "output_type": "stream",
     "text": [
      "0.5848170226090248\n"
     ]
    }
   ],
   "source": [
    "# Yleensä raportoidaan toistettujen mallinnusten keskimääräinen virhe:\n",
    "print(np.mean(opetus_mse))"
   ]
  },
  {
   "cell_type": "code",
   "execution_count": 76,
   "metadata": {},
   "outputs": [
    {
     "name": "stdout",
     "output_type": "stream",
     "text": [
      "[3.9134783  0.60600646 0.08414373 3.23322708 3.69156324 3.40011159\n",
      " 4.51392534 3.64042954 0.78917247 3.40011159]\n"
     ]
    }
   ],
   "source": [
    "# Kymmenen toistoa, 10 virhettä (MSE)\n",
    "print(validointi_mse)"
   ]
  },
  {
   "cell_type": "code",
   "execution_count": 77,
   "metadata": {},
   "outputs": [
    {
     "name": "stdout",
     "output_type": "stream",
     "text": [
      "2.7272169347304778\n"
     ]
    }
   ],
   "source": [
    "# Yleensä raportoidaan toistettujen mallinnusten keskimääräinen virhe:\n",
    "print(np.mean(validointi_mse))"
   ]
  },
  {
   "cell_type": "code",
   "execution_count": 78,
   "metadata": {},
   "outputs": [
    {
     "data": {
      "image/png": "[encoded data removed]",
      "text/plain": [
       "<Figure size 432x288 with 1 Axes>"
      ]
     },
     "metadata": {},
     "output_type": "display_data"
    }
   ],
   "source": [
    "# Tee tuloskuva, jossa opetusvirheet ja validointivirheet\n",
    "# on visualisoitu:\n",
    "plt.plot(np.ones((10,1)), opetus_mse, '.')\n",
    "plt.plot(2*np.ones((10,1)), validointi_mse, '.')\n",
    "plt.title('Lineaarisen mallin opetus- ja validointivirhe (MSE)')\n",
    "plt.xticks([1,2], ['opetus', 'validointi'])\n",
    "plt.ylabel('Keskimääräinen neliövirhe')\n",
    "plt.show()"
   ]
  },
  {
   "cell_type": "code",
   "execution_count": 79,
   "metadata": {},
   "outputs": [
    {
     "name": "stdout",
     "output_type": "stream",
     "text": [
      "[0.99152931 0.97944584 0.97311797 0.98931316 0.98400831 0.98178251\n",
      " 0.99289787 0.99183228 0.9830963  0.98178251]\n"
     ]
    }
   ],
   "source": [
    "# 10 toistoa, 10 selitysastetta:\n",
    "print(opetus_r2)"
   ]
  },
  {
   "cell_type": "code",
   "execution_count": 80,
   "metadata": {},
   "outputs": [
    {
     "name": "stdout",
     "output_type": "stream",
     "text": [
      "0.9848806050182424\n"
     ]
    }
   ],
   "source": [
    "# Yleensä raportoidaan toistettujen mallinnusten keskimääräinen selitysaste:\n",
    "print(np.mean(opetus_r2))"
   ]
  },
  {
   "cell_type": "code",
   "execution_count": 81,
   "metadata": {},
   "outputs": [
    {
     "name": "stdout",
     "output_type": "stream",
     "text": [
      "[ 0.91967475  0.98563456  0.80972643  0.58759859  0.95909625  0.96656962\n",
      " -0.07410478  0.72219792  0.87064655  0.96656962]\n"
     ]
    }
   ],
   "source": [
    "# 10 toistoa, 10 selitysastetta:\n",
    "print(validointi_r2)"
   ]
  },
  {
   "cell_type": "code",
   "execution_count": 82,
   "metadata": {},
   "outputs": [
    {
     "name": "stdout",
     "output_type": "stream",
     "text": [
      "0.7713609504772242\n"
     ]
    }
   ],
   "source": [
    "# Yleensä raportoidaan toistettujen mallinnusten keskimääräinen selitysaste:\n",
    "print(np.mean(validointi_r2))"
   ]
  },
  {
   "cell_type": "code",
   "execution_count": 83,
   "metadata": {},
   "outputs": [
    {
     "data": {
      "image/png": "[encoded data removed]",
      "text/plain": [
       "<Figure size 432x288 with 1 Axes>"
      ]
     },
     "metadata": {},
     "output_type": "display_data"
    }
   ],
   "source": [
    "# Tee tuloskuva, jossa opetusvirheet ja validointivirheet\n",
    "# on visualisoitu:\n",
    "plt.plot(np.ones((10,1)), opetus_r2, '.')\n",
    "plt.plot(2*np.ones((10,1)), validointi_r2, '.')\n",
    "plt.title('Lineaarisen mallin opetus- ja validointivirheet (selitysaste)')\n",
    "plt.xticks([1,2], ['opetus', 'validointi'])\n",
    "plt.ylabel('Selitysaste, R^2')\n",
    "plt.show()"
   ]
  },
  {
   "cell_type": "markdown",
   "metadata": {},
   "source": [
    "Tehtävä 1. Kokeile samaa analyysiketjua jollakin muulla datalla, jossa on yksi syötemuuttuja ja yksi vastemuuttuja. Voit valita datan vaikka kirjastosta sklearn.datasets ja poimia datasta haluamasi syötemuuttujan x ja vastemuuttujan y. Mieti tarvitaanko malliin molemmat paramterit a ja b, tai vain a?"
   ]
  },
  {
   "cell_type": "code",
   "execution_count": null,
   "metadata": {},
   "outputs": [],
   "source": []
  }
 ],
 "metadata": {
  "kernelspec": {
   "display_name": "Python 3",
   "language": "python",
   "name": "python3"
  },
  "language_info": {
   "codemirror_mode": {
    "name": "ipython",
    "version": 3
   },
   "file_extension": ".py",
   "mimetype": "text/x-python",
   "name": "python",
   "nbconvert_exporter": "python",
   "pygments_lexer": "ipython3",
   "version": "3.6.5"
  }
 },
 "nbformat": 4,
 "nbformat_minor": 2
}
