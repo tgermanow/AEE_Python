{
 "cells": [
  {
   "cell_type": "code",
   "execution_count": 4,
   "metadata": {},
   "outputs": [],
   "source": [
    "%reset -f"
   ]
  },
  {
   "cell_type": "markdown",
   "metadata": {},
   "source": [
    "&#9672; Aseta alla oleva muuttuja `path_to_src_file`. Muuta ei tarvitse muutella. "
   ]
  },
  {
   "cell_type": "code",
   "execution_count": 7,
   "metadata": {},
   "outputs": [],
   "source": [
    "path_to_src_file = \"Kuntien avainluvut.csv\""
   ]
  },
  {
   "cell_type": "code",
   "execution_count": 8,
   "metadata": {},
   "outputs": [
    {
     "name": "stdout",
     "output_type": "stream",
     "text": [
      "PK-seudun asukasluku:  1154967.0\n",
      "Suurin kunta on ('Helsinki', 643272.0)\n",
      "Pienin kunta on ('Sottunga', 92.0)\n",
      "Suurin tyollisyys ('Sottunga', 89.5)\n",
      "Pienin tyollisyys ('Rautavaara', 53.1)\n"
     ]
    }
   ],
   "source": [
    "'''\n",
    "* Lue kuntatilasto csv kirjastolla listamuuttujiin: kunnat, asukkaat, kasvu, tyollisuus\n",
    "** PK-seudun asukasluku; Espoo, Helsinki, Vantaa, Kauniainen\n",
    "** Suurin ja pienin kunta\n",
    "** Suurin ja pienen tyottamyysaste\n",
    "'''\n",
    "\n",
    "import csv\n",
    "\n",
    "kunnat, asukkaat, kasvu, tyollisuus = [], [], [], []\n",
    "\n",
    "def clear_lists():\n",
    "    kunnat.clear()\n",
    "    asukkaat.clear()\n",
    "    kasvu.clear()\n",
    "    tyollisuus.clear()\n",
    "\n",
    "def parse_src_to_lists_dictreader(filename):\n",
    "    clear_lists()\n",
    "    with open(filename) as f:\n",
    "        _reader = csv.DictReader(f, delimiter=\";\")\n",
    "        for r in _reader:\n",
    "            kunnat.append(r[\"Nimi\"])\n",
    "            asukkaat.append(float(r[\"Väkiluku 2017\"]))\n",
    "            kasvu.append(float(r[\"Väkiluvun muutos %\"]))\n",
    "            tyollisuus.append(float(r[\"Työllisyysaste %\"]))\n",
    "\n",
    "def parse_src_to_lists(filename):\n",
    "    clear_lists()\n",
    "    with open(filename) as f:\n",
    "        _reader = csv.reader(f, delimiter=\";\")\n",
    "        next(_reader)  # consuming the header row\n",
    "        for r in _reader:\n",
    "            kunnat.append(r[0])\n",
    "            asukkaat.append(float(r[1]))\n",
    "            kasvu.append(float(r[2]))\n",
    "            tyollisuus.append(float(r[3]))\n",
    "\n",
    "def get_pk_seudun_asukasluku():\n",
    "    pk_kunnat = [\"Helsinki\", \"Espoo\", \"Vantaa\", \"Kauniainen\"]\n",
    "    asukasluku = 0\n",
    "\n",
    "    for kunta in pk_kunnat:\n",
    "        index_of_kunta = kunnat.index(kunta)\n",
    "        kunnan_asukasluku = asukkaat[index_of_kunta]\n",
    "        asukasluku += kunnan_asukasluku\n",
    "        #print(\"{0} asukasluku on {1}\".format(kunta, kunnan_asukasluku) )\n",
    "\n",
    "    return asukasluku\n",
    "\n",
    "def get_suurin_kunta():\n",
    "    index = asukkaat.index(max(asukkaat))\n",
    "    return kunnat[index], max(asukkaat)\n",
    "\n",
    "def get_pienin_kunta():\n",
    "    index = asukkaat.index(min(asukkaat))\n",
    "    return kunnat[index], min(asukkaat)\n",
    "\n",
    "def get_suurin_tyollisyys():\n",
    "    index = tyollisuus.index(max(tyollisuus))\n",
    "    return kunnat[index], max(tyollisuus)\n",
    "\n",
    "def get_pienin_tyollisyys():\n",
    "    index = tyollisuus.index(min(tyollisuus))\n",
    "    return kunnat[index], min(tyollisuus)\n",
    "\n",
    "\n",
    "\n",
    "parse_src_to_lists(path_to_src_file)\n",
    "parse_src_to_lists_dictreader(path_to_src_file)\n",
    "\n",
    "print(\"PK-seudun asukasluku: \", get_pk_seudun_asukasluku() )\n",
    "print(\"Suurin kunta on\", get_suurin_kunta())\n",
    "print(\"Pienin kunta on\", get_pienin_kunta())\n",
    "print(\"Suurin tyollisyys\", get_suurin_tyollisyys())\n",
    "print(\"Pienin tyollisyys\", get_pienin_tyollisyys())"
   ]
  },
  {
   "cell_type": "code",
   "execution_count": null,
   "metadata": {},
   "outputs": [],
   "source": []
  }
 ],
 "metadata": {
  "kernelspec": {
   "display_name": "Python 3",
   "language": "python",
   "name": "python3"
  },
  "language_info": {
   "codemirror_mode": {
    "name": "ipython",
    "version": 3
   },
   "file_extension": ".py",
   "mimetype": "text/x-python",
   "name": "python",
   "nbconvert_exporter": "python",
   "pygments_lexer": "ipython3",
   "version": "3.6.6"
  }
 },
 "nbformat": 4,
 "nbformat_minor": 2
}
