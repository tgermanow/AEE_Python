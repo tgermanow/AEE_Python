{
 "cells": [
  {
   "cell_type": "markdown",
   "metadata": {},
   "source": [
    "# Python ja tekoäly, koodauksen perusteet\n",
    "\n",
    "# Koulutus: 28.11.2019\n",
    "\n",
    "# Aihe: Analyysin eri vaiheet (workflow)"
   ]
  },
  {
   "cell_type": "markdown",
   "metadata": {},
   "source": [
    "## Tarvittavat kirjastot"
   ]
  },
  {
   "cell_type": "code",
   "execution_count": 1,
   "metadata": {},
   "outputs": [],
   "source": [
    "# Mieti mitä kirjastoja tarvitset luokitteluongelmassasi\n",
    "import numpy as np\n",
    "import pandas as pd\n",
    "\n"
   ]
  },
  {
   "cell_type": "markdown",
   "metadata": {},
   "source": [
    "## Lue data"
   ]
  },
  {
   "cell_type": "code",
   "execution_count": 2,
   "metadata": {},
   "outputs": [],
   "source": [
    "# Lataa data työtilaan joko tekstitiedostona, tietokannasta tai kirjastosta\n",
    "\n"
   ]
  },
  {
   "cell_type": "markdown",
   "metadata": {},
   "source": [
    "## Tarvittava esikäsittely"
   ]
  },
  {
   "cell_type": "code",
   "execution_count": 3,
   "metadata": {},
   "outputs": [],
   "source": [
    "# Esikäsittelyä, esim. datan normalisointia, muuttujien poimintaa taulukosta\n",
    "# Ennustusongelmissa esim. x,y oikeisiin muuttujiin\n"
   ]
  },
  {
   "cell_type": "markdown",
   "metadata": {},
   "source": [
    "## Mallin luonti"
   ]
  },
  {
   "cell_type": "code",
   "execution_count": 4,
   "metadata": {},
   "outputs": [],
   "source": [
    "# Luo malli (eli mallin objekti), opetus vasta myöhemmin\n",
    "\n",
    "# Valitse malli tai mallit (yksi tai monta)\n",
    "# esim. voit vertailla lineaarista ja epälineaarista mallia\n"
   ]
  },
  {
   "cell_type": "markdown",
   "metadata": {},
   "source": [
    "## Mallin opetus ja ristiinvalidointi"
   ]
  },
  {
   "cell_type": "code",
   "execution_count": 5,
   "metadata": {},
   "outputs": [],
   "source": [
    "# Mieti käytettävä ristiinvalidointimenetelmä, esim. k kertaa\n",
    "# toistettava jako opetus- ja validointijoukkoon\n",
    "\n",
    "# Silmukkarakenne, joka datalle ja joka mallille:\n",
    "#   datan jako\n",
    "#   opeta malli opetusdatalla\n",
    "#   mittaa virhe opetusdatalla => opetusvirhe\n",
    "#   mittaa virhe validointidatalla => validointivirhe\n",
    "#   tallenna virheet niin että voit käsitellä niitä myöhemmin\n"
   ]
  },
  {
   "cell_type": "code",
   "execution_count": 6,
   "metadata": {},
   "outputs": [],
   "source": [
    "# Laske virheiden keskiarvo ja hajonta"
   ]
  },
  {
   "cell_type": "markdown",
   "metadata": {},
   "source": [
    "## Tulosten graafinen esitys"
   ]
  },
  {
   "cell_type": "code",
   "execution_count": 7,
   "metadata": {},
   "outputs": [],
   "source": [
    "# Esitä virheet graafisina kuvaajina (joka menetelmälle ja joka datalle!)"
   ]
  },
  {
   "cell_type": "code",
   "execution_count": 8,
   "metadata": {},
   "outputs": [],
   "source": [
    "# Valmista tuli!"
   ]
  }
 ],
 "metadata": {
  "kernelspec": {
   "display_name": "Python 3",
   "language": "python",
   "name": "python3"
  },
  "language_info": {
   "codemirror_mode": {
    "name": "ipython",
    "version": 3
   },
   "file_extension": ".py",
   "mimetype": "text/x-python",
   "name": "python",
   "nbconvert_exporter": "python",
   "pygments_lexer": "ipython3",
   "version": "3.6.5"
  }
 },
 "nbformat": 4,
 "nbformat_minor": 2
}
