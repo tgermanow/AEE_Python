{
 "cells": [
  {
   "cell_type": "markdown",
   "metadata": {},
   "source": [
    "# Python ja tekoäly, koodauksen perusteet\n",
    "\n",
    "# Koulutus: 28.11.2019\n",
    "\n",
    "# Aihe: Monimuuttujaregressio"
   ]
  },
  {
   "cell_type": "markdown",
   "metadata": {},
   "source": [
    "Huom! Tämä notebook on kopio edellisestä harjoituksesta, jossa käsittelimme yksinkertaista, yhden muuttujan lineaarista regressiota. Nyt tarkoituksena on yleistää tätä monen muuttujan lineaariseen regressioon. Tällaisessa mallissa on monta syötemuuttujaa x ja yksi vastemuuttuja y."
   ]
  },
  {
   "cell_type": "markdown",
   "metadata": {},
   "source": [
    "Tässä harjoituksessa rakennamme kokonaisen analyysiketjun, jossa ladataan data jollain opitulla tavalla. Datasta valitaan halutut muuttujat, ja tehdään ennustin. Ennustimen tarkkuus mitataan huolellisesti ristiinvalidoimalla."
   ]
  },
  {
   "cell_type": "markdown",
   "metadata": {},
   "source": [
    "Ensin tarvitaan kuitenkin tavalliset kirjastot, josta saamme tietorakenteita ja funktiota käyttöön:"
   ]
  },
  {
   "cell_type": "code",
   "execution_count": 1,
   "metadata": {},
   "outputs": [],
   "source": [
    "import numpy as np\n",
    "import pandas as pd\n",
    "import matplotlib.pyplot as plt"
   ]
  },
  {
   "cell_type": "code",
   "execution_count": 2,
   "metadata": {},
   "outputs": [],
   "source": [
    "from sklearn import datasets, linear_model\n",
    "from sklearn.linear_model import LinearRegression\n",
    "from sklearn.metrics import mean_squared_error, r2_score\n",
    "from sklearn.model_selection import train_test_split"
   ]
  },
  {
   "cell_type": "markdown",
   "metadata": {},
   "source": [
    "Harjoitus 1. Muokkkaa alla olevaa notebookia niin, että saat opittua monen muuttujan lineaarisen mallin datasta. Voit ladata vaikka sklearn-kirjastosta datan funktiolla fetch_california_housing (katso dokumentaatiota!)"
   ]
  },
  {
   "cell_type": "code",
   "execution_count": 3,
   "metadata": {},
   "outputs": [
    {
     "name": "stderr",
     "output_type": "stream",
     "text": [
      "Downloading Cal. housing from https://ndownloader.figshare.com/files/5976036 to /home/jovyan/scikit_learn_data\n"
     ]
    }
   ],
   "source": [
    "(california_x, california_y) = datasets.fetch_california_housing(return_X_y=True)"
   ]
  },
  {
   "cell_type": "code",
   "execution_count": 4,
   "metadata": {},
   "outputs": [
    {
     "data": {
      "text/plain": [
       "(20640, 8)"
      ]
     },
     "execution_count": 4,
     "metadata": {},
     "output_type": "execute_result"
    }
   ],
   "source": [
    "california_x.shape"
   ]
  },
  {
   "cell_type": "code",
   "execution_count": 5,
   "metadata": {},
   "outputs": [
    {
     "data": {
      "text/plain": [
       "(20640,)"
      ]
     },
     "execution_count": 5,
     "metadata": {},
     "output_type": "execute_result"
    }
   ],
   "source": [
    "california_y.shape"
   ]
  },
  {
   "cell_type": "code",
   "execution_count": 10,
   "metadata": {},
   "outputs": [
    {
     "data": {
      "text/plain": [
       "numpy.ndarray"
      ]
     },
     "execution_count": 10,
     "metadata": {},
     "output_type": "execute_result"
    }
   ],
   "source": [
    "type(california_x)"
   ]
  },
  {
   "cell_type": "markdown",
   "metadata": {},
   "source": [
    "# Opeta lineaarinen malli datasta"
   ]
  },
  {
   "cell_type": "markdown",
   "metadata": {},
   "source": [
    "## Jaa data opetusjoukkoon ja validointijoukkoon:"
   ]
  },
  {
   "cell_type": "markdown",
   "metadata": {},
   "source": [
    "Opetetaan malli opetusdatasta, jätä toistaiseksi validointidata käyttämättä:"
   ]
  },
  {
   "cell_type": "code",
   "execution_count": 6,
   "metadata": {},
   "outputs": [],
   "source": [
    "data_x_opetus, data_x_validointi, data_y_opetus, data_y_validointi = train_test_split(\n",
    "...     california_x, california_y, test_size=0.2, random_state=0)"
   ]
  },
  {
   "cell_type": "code",
   "execution_count": 28,
   "metadata": {},
   "outputs": [
    {
     "data": {
      "text/plain": [
       "numpy.ndarray"
      ]
     },
     "execution_count": 28,
     "metadata": {},
     "output_type": "execute_result"
    }
   ],
   "source": [
    "type(data_x_opetus)"
   ]
  },
  {
   "cell_type": "code",
   "execution_count": 13,
   "metadata": {},
   "outputs": [
    {
     "data": {
      "text/plain": [
       "LinearRegression(copy_X=True, fit_intercept=True, n_jobs=None,\n",
       "         normalize=False)"
      ]
     },
     "execution_count": 13,
     "metadata": {},
     "output_type": "execute_result"
    }
   ],
   "source": [
    "# Luo ensin mallin objekti tai muuttuja:\n",
    "lm = LinearRegression(fit_intercept=True)\n",
    "\n",
    "# Lineaarinen malli sovitetaan opetusdataan:\n",
    "lm.fit(data_x_opetus,data_y_opetus)"
   ]
  },
  {
   "cell_type": "code",
   "execution_count": 30,
   "metadata": {},
   "outputs": [
    {
     "data": {
      "text/plain": [
       "array([  4.36696589e-01,   9.45685745e-03,  -1.04370348e-01,\n",
       "         6.21279596e-01,  -5.19186407e-06,  -3.43201121e-03,\n",
       "        -4.15480618e-01,  -4.26055329e-01])"
      ]
     },
     "execution_count": 30,
     "metadata": {},
     "output_type": "execute_result"
    }
   ],
   "source": [
    "lm.coef_"
   ]
  },
  {
   "cell_type": "code",
   "execution_count": 31,
   "metadata": {},
   "outputs": [
    {
     "data": {
      "text/plain": [
       "-36.130897309074498"
      ]
     },
     "execution_count": 31,
     "metadata": {},
     "output_type": "execute_result"
    }
   ],
   "source": [
    "lm.intercept_"
   ]
  },
  {
   "cell_type": "markdown",
   "metadata": {},
   "source": [
    "# Laske mallin opetusvirhe ja validointivirhe\n",
    "\n"
   ]
  },
  {
   "cell_type": "code",
   "execution_count": 15,
   "metadata": {},
   "outputs": [
    {
     "data": {
      "text/plain": [
       "0.52344136071254477"
      ]
     },
     "execution_count": 15,
     "metadata": {},
     "output_type": "execute_result"
    }
   ],
   "source": [
    "# Lasketaan ennustusten opetusvirhe (MSE = mean squared error eli keskimääräinen neliövirhe)\n",
    "ennustukset_opetus = lm.predict(data_x_opetus)\n",
    "opetus_mse = mean_squared_error(data_y_opetus, ennustukset_opetus)\n",
    "opetus_mse"
   ]
  },
  {
   "cell_type": "code",
   "execution_count": 16,
   "metadata": {},
   "outputs": [
    {
     "data": {
      "text/plain": [
       "0.52898416703672457"
      ]
     },
     "execution_count": 16,
     "metadata": {},
     "output_type": "execute_result"
    }
   ],
   "source": [
    "# Lasketaan ennustusten validointivirhe\n",
    "ennustukset_validointi = lm.predict(data_x_validointi)\n",
    "validointi_mse = mean_squared_error(data_y_validointi, ennustukset_validointi)\n",
    "validointi_mse"
   ]
  },
  {
   "cell_type": "markdown",
   "metadata": {},
   "source": [
    "# Ristiinvalidointi \n",
    "\n",
    "Nyt harjoitellaan ristiinvaidointia, jossa data jaetaan opetusjoukkoon ja validointijoukkoon monta kertaa. Kullekin jaolle opetetaan malli opetusdatalla ja mallille lasketaan sekä opetusvirhe että validointivirhe."
   ]
  },
  {
   "cell_type": "code",
   "execution_count": 17,
   "metadata": {},
   "outputs": [],
   "source": [
    "# Opetusvirheet tallennetaan taulukkoon:\n",
    "opetus_mse = np.zeros(10)\n",
    "opetus_r2 = np.zeros(10)\n",
    "\n",
    "# Validointivirheet tallenetaan taulukkoon:\n",
    "validointi_mse = np.zeros(10)\n",
    "validointi_r2 = np.zeros(10)\n",
    "\n",
    "# Toista jako opetus- ja validointidataan 10 kertaa, opeta\n",
    "# joka kerta uusi malli, jolle lasket opetusvirheen (opetusdatan\n",
    "# avulla) ja validointivirheen(validointidatan avulla)\n",
    "\n",
    "for i in np.arange(0,10):\n",
    "  data_x_opetus, data_x_validointi, data_y_opetus, data_y_validointi = train_test_split(california_x, california_y, test_size=0.2, random_state=689*i)\n",
    "\n",
    "  # Opetetaan malli tällä nimenomaisella jaolla!\n",
    "  lm.fit(data_x_opetus,data_y_opetus)\n",
    "\n",
    "  # Lasketaan ennustusten opetusvirhe (MSE ja R2):\n",
    "  ennustukset_opetus = lm.predict(data_x_opetus)\n",
    "  opetus_mse[i] = mean_squared_error(data_y_opetus, ennustukset_opetus)\n",
    "  opetus_r2[i] = r2_score(data_y_opetus, ennustukset_opetus)\n",
    "\n",
    "  # Lasketaan ennustusten validointivirhe (MSE ja R2):\n",
    "  ennustukset_validointi = lm.predict(data_x_validointi)\n",
    "  validointi_mse[i] = mean_squared_error(data_y_validointi, ennustukset_validointi)\n",
    "  validointi_r2[i] = r2_score(data_y_validointi, ennustukset_validointi)"
   ]
  },
  {
   "cell_type": "code",
   "execution_count": 18,
   "metadata": {},
   "outputs": [
    {
     "name": "stdout",
     "output_type": "stream",
     "text": [
      "[ 0.52344136  0.52068759  0.533675    0.51830551  0.52613404  0.52764838\n",
      "  0.52657429  0.52765991  0.5305413   0.52366648]\n"
     ]
    }
   ],
   "source": [
    "# 10 toistoa, 10 virhettä (MSE):\n",
    "print(opetus_mse)"
   ]
  },
  {
   "cell_type": "code",
   "execution_count": 19,
   "metadata": {},
   "outputs": [
    {
     "name": "stdout",
     "output_type": "stream",
     "text": [
      "0.525833386826\n"
     ]
    }
   ],
   "source": [
    "# Yleensä raportoidaan toistettujen mallinnusten keskimääräinen virhe:\n",
    "print(np.mean(opetus_mse))"
   ]
  },
  {
   "cell_type": "code",
   "execution_count": 20,
   "metadata": {},
   "outputs": [
    {
     "name": "stdout",
     "output_type": "stream",
     "text": [
      "[ 0.52898417  0.53954307  0.50334148  0.54892555  0.51868242  0.51110481\n",
      "  0.515941    0.51144044  0.50680523  0.52744176]\n"
     ]
    }
   ],
   "source": [
    "# Kymmenen toistoa, 10 virhettä (MSE)\n",
    "print(validointi_mse)"
   ]
  },
  {
   "cell_type": "code",
   "execution_count": 21,
   "metadata": {},
   "outputs": [
    {
     "name": "stdout",
     "output_type": "stream",
     "text": [
      "0.521220991081\n"
     ]
    }
   ],
   "source": [
    "# Yleensä raportoidaan toistettujen mallinnusten keskimääräinen virhe:\n",
    "print(np.mean(validointi_mse))"
   ]
  },
  {
   "cell_type": "code",
   "execution_count": 22,
   "metadata": {},
   "outputs": [
    {
     "data": {
      "image/png": "[encoded data removed]",
      "text/plain": [
       "<Figure size 432x288 with 1 Axes>"
      ]
     },
     "metadata": {
      "needs_background": "light"
     },
     "output_type": "display_data"
    }
   ],
   "source": [
    "# Tee tuloskuva, jossa opetusvirheet ja validointivirheet\n",
    "# on visualisoitu:\n",
    "plt.plot(np.ones((10,1)), opetus_mse, '.')\n",
    "plt.plot(2*np.ones((10,1)), validointi_mse, '.')\n",
    "plt.title('Lineaarisen mallin opetus- ja validointivirhe (MSE)')\n",
    "plt.xticks([1,2], ['opetus', 'validointi'])\n",
    "plt.ylabel('Keskimääräinen neliövirhe')\n",
    "plt.show()"
   ]
  },
  {
   "cell_type": "code",
   "execution_count": 23,
   "metadata": {},
   "outputs": [
    {
     "name": "stdout",
     "output_type": "stream",
     "text": [
      "[ 0.60889681  0.60488227  0.60278695  0.61049895  0.60639793  0.60447298\n",
      "  0.60267561  0.60557329  0.60630199  0.60436976]\n"
     ]
    }
   ],
   "source": [
    "# 10 toistoa, 10 selitysastetta:\n",
    "print(opetus_r2)"
   ]
  },
  {
   "cell_type": "code",
   "execution_count": 24,
   "metadata": {},
   "outputs": [
    {
     "name": "stdout",
     "output_type": "stream",
     "text": [
      "0.605685653238\n"
     ]
    }
   ],
   "source": [
    "# Yleensä raportoidaan toistettujen mallinnusten keskimääräinen selitysaste:\n",
    "print(np.mean(opetus_r2))"
   ]
  },
  {
   "cell_type": "code",
   "execution_count": 25,
   "metadata": {},
   "outputs": [
    {
     "name": "stdout",
     "output_type": "stream",
     "text": [
      "[ 0.59432327  0.61079434  0.60766565  0.58879472  0.60429769  0.6132193\n",
      "  0.61953394  0.60856282  0.59989417  0.6129403 ]\n"
     ]
    }
   ],
   "source": [
    "# 10 toistoa, 10 selitysastetta:\n",
    "print(validointi_r2)"
   ]
  },
  {
   "cell_type": "code",
   "execution_count": 26,
   "metadata": {},
   "outputs": [
    {
     "name": "stdout",
     "output_type": "stream",
     "text": [
      "0.606002619583\n"
     ]
    }
   ],
   "source": [
    "# Yleensä raportoidaan toistettujen mallinnusten keskimääräinen selitysaste:\n",
    "print(np.mean(validointi_r2))"
   ]
  },
  {
   "cell_type": "code",
   "execution_count": 27,
   "metadata": {},
   "outputs": [
    {
     "data": {
      "image/png": "[encoded data removed]",
      "text/plain": [
       "<Figure size 432x288 with 1 Axes>"
      ]
     },
     "metadata": {
      "needs_background": "light"
     },
     "output_type": "display_data"
    }
   ],
   "source": [
    "# Tee tuloskuva, jossa opetusvirheet ja validointivirheet\n",
    "# on visualisoitu:\n",
    "plt.plot(np.ones((10,1)), opetus_r2, '.')\n",
    "plt.plot(2*np.ones((10,1)), validointi_r2, '.')\n",
    "plt.title('Lineaarisen mallin opetus- ja validointivirheet (selitysaste)')\n",
    "plt.xticks([1,2], ['opetus', 'validointi'])\n",
    "plt.ylabel('Selitysaste, R^2')\n",
    "plt.show()"
   ]
  },
  {
   "cell_type": "markdown",
   "metadata": {},
   "source": [
    "Tehtävä 2. Kokeile samaa analyysiketjua jollakin muulla datalla, jossa on monta syötemuuttuja ja yksi vastemuuttuja. Voit valita datan vaikka kirjastosta sklearn.datasets ja poimia datasta haluamasi syötemuuttujat x ja vastemuuttujan y."
   ]
  },
  {
   "cell_type": "markdown",
   "metadata": {},
   "source": [
    "Oikeat arvot vs. ennustetut plotattuna. \n",
    "X=Oikeat (california_y)\n",
    "Y=Ennustetut"
   ]
  },
  {
   "cell_type": "code",
   "execution_count": 32,
   "metadata": {},
   "outputs": [
    {
     "data": {
      "text/plain": [
       "[<matplotlib.lines.Line2D at 0x7f0d6308a8d0>]"
      ]
     },
     "execution_count": 32,
     "metadata": {},
     "output_type": "execute_result"
    },
    {
     "data": {
      "image/png": "[encoded data removed]",
      "text/plain": [
       "<Figure size 432x288 with 1 Axes>"
      ]
     },
     "metadata": {
      "needs_background": "light"
     },
     "output_type": "display_data"
    }
   ],
   "source": [
    "plt.plot(california_y, lm.predict(california_x), '.')"
   ]
  },
  {
   "cell_type": "code",
   "execution_count": null,
   "metadata": {},
   "outputs": [],
   "source": []
  }
 ],
 "metadata": {
  "kernelspec": {
   "display_name": "Python 3",
   "language": "python",
   "name": "python3"
  },
  "language_info": {
   "codemirror_mode": {
    "name": "ipython",
    "version": 3
   },
   "file_extension": ".py",
   "mimetype": "text/x-python",
   "name": "python",
   "nbconvert_exporter": "python",
   "pygments_lexer": "ipython3",
   "version": "3.6.6"
  }
 },
 "nbformat": 4,
 "nbformat_minor": 2
}
