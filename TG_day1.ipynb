{
 "cells": [
  {
   "cell_type": "markdown",
   "metadata": {},
   "source": [
    "Muuttujien resetointi:"
   ]
  },
  {
   "cell_type": "code",
   "execution_count": 32,
   "metadata": {},
   "outputs": [],
   "source": [
    "%reset -f\n"
   ]
  },
  {
   "cell_type": "markdown",
   "metadata": {},
   "source": [
    "----"
   ]
  },
  {
   "cell_type": "code",
   "execution_count": 34,
   "metadata": {},
   "outputs": [
    {
     "name": "stdout",
     "output_type": "stream",
     "text": [
      "Input:fs\n"
     ]
    }
   ],
   "source": [
    "b = \"test\"\n",
    "a = input(\"Input:\")"
   ]
  },
  {
   "cell_type": "code",
   "execution_count": 35,
   "metadata": {},
   "outputs": [
    {
     "name": "stdout",
     "output_type": "stream",
     "text": [
      "arvo: fs\n"
     ]
    }
   ],
   "source": [
    "print(\"arvo:\", a)"
   ]
  },
  {
   "cell_type": "code",
   "execution_count": 36,
   "metadata": {},
   "outputs": [
    {
     "name": "stdout",
     "output_type": "stream",
     "text": [
      "Numeerinen input:10\n"
     ]
    }
   ],
   "source": [
    "num_in = int (input(\"Numeerinen input:\"))"
   ]
  },
  {
   "cell_type": "markdown",
   "metadata": {},
   "source": [
    "Kontrollirakenteet: \n",
    "if .. elif ... else"
   ]
  },
  {
   "cell_type": "code",
   "execution_count": 46,
   "metadata": {},
   "outputs": [
    {
     "name": "stdout",
     "output_type": "stream",
     "text": [
      "A:25\n"
     ]
    }
   ],
   "source": [
    "a = int (input(\"A:\"))"
   ]
  },
  {
   "cell_type": "code",
   "execution_count": 47,
   "metadata": {},
   "outputs": [
    {
     "name": "stdout",
     "output_type": "stream",
     "text": [
      "a 50\n",
      "a 100\n"
     ]
    }
   ],
   "source": [
    "if a < 10:\n",
    "    print(\"alle\")\n",
    "if a < 50:\n",
    "    print(\"a 50\")\n",
    "if a < 100:\n",
    "    print(\"a 100\")\n",
    "else:\n",
    "    print(\"yli 100\")"
   ]
  },
  {
   "cell_type": "code",
   "execution_count": 48,
   "metadata": {},
   "outputs": [
    {
     "name": "stdout",
     "output_type": "stream",
     "text": [
      "a 50\n"
     ]
    }
   ],
   "source": [
    "if a < 10:\n",
    "    print(\"alle\")\n",
    "elif a < 50:\n",
    "    print(\"a 50\")\n",
    "elif a < 100:\n",
    "    print(\"a 100\")\n",
    "else:\n",
    "    print(\"yli 100\")"
   ]
  },
  {
   "cell_type": "code",
   "execution_count": 51,
   "metadata": {},
   "outputs": [
    {
     "name": "stdout",
     "output_type": "stream",
     "text": [
      "5\n"
     ]
    }
   ],
   "source": [
    "i = 0\n",
    "while i < 5:\n",
    "    i+=1\n",
    "print(i)"
   ]
  },
  {
   "cell_type": "code",
   "execution_count": 55,
   "metadata": {},
   "outputs": [],
   "source": [
    "numeroitu = enumerate([1,10], 0)"
   ]
  },
  {
   "cell_type": "code",
   "execution_count": 58,
   "metadata": {},
   "outputs": [
    {
     "name": "stdout",
     "output_type": "stream",
     "text": [
      "<enumerate object at 0x7f833c45a678>\n"
     ]
    }
   ],
   "source": [
    "print(numeroitu)"
   ]
  },
  {
   "cell_type": "code",
   "execution_count": 61,
   "metadata": {},
   "outputs": [
    {
     "name": "stdout",
     "output_type": "stream",
     "text": [
      "<class 'enumerate'>\n",
      "[(0, 'bread'), (1, 'milk'), (2, 'butter')]\n",
      "(1, 'milk')\n",
      "[(10, 'bread'), (11, 'milk'), (12, 'butter')]\n"
     ]
    }
   ],
   "source": [
    "grocery = ['bread', 'milk', 'butter']\n",
    "enumerateGrocery = enumerate(grocery)\n",
    "\n",
    "print(type(enumerateGrocery))\n",
    "\n",
    "# converting to list\n",
    "listGroceries = list(enumerateGrocery)\n",
    "print(listGroceries)\n",
    "print(listGroceries[1])\n",
    "\n",
    "\n",
    "\n",
    "# changing the default counter\n",
    "enumerateGrocery = enumerate(grocery, 10)\n",
    "print(list(enumerateGrocery))"
   ]
  },
  {
   "cell_type": "code",
   "execution_count": 75,
   "metadata": {},
   "outputs": [
    {
     "name": "stdout",
     "output_type": "stream",
     "text": [
      "0\n",
      "2\n",
      "6\n"
     ]
    }
   ],
   "source": [
    "i = 0\n",
    "#range(alku, loppu, step)\n",
    "#kaikki voi olla myös negatiivisia\n",
    "for x in range(i,5, 2):\n",
    "    i+=x\n",
    "    print(i)"
   ]
  },
  {
   "cell_type": "code",
   "execution_count": 77,
   "metadata": {},
   "outputs": [
    {
     "name": "stdout",
     "output_type": "stream",
     "text": [
      "[0, 4, 16, 36, 64]\n"
     ]
    }
   ],
   "source": [
    "squares = [x ** 2 for x in range(10) if x % 2 == 0]\n",
    "print(squares)"
   ]
  },
  {
   "cell_type": "code",
   "execution_count": 94,
   "metadata": {},
   "outputs": [
    {
     "name": "stdout",
     "output_type": "stream",
     "text": [
      "Arvottu rivi: [20, 36, 37, 28, 24, 30, 14, 27, 21, 16]\n",
      "Arvotut paanumerot: [20, 36, 37, 28, 24, 30, 14]\n",
      "Arvotut lisanumerot: [27, 21, 16]\n",
      "Täytä lappu, eli anna numerot:\n",
      "<class 'int'>4\n",
      "<class 'int'>3\n",
      "<class 'int'>5\n",
      "<class 'int'>6\n",
      "<class 'int'>3\n",
      "<class 'int'>6\n",
      "<class 'int'>6\n",
      "Annettu rivi:  ['4', '3', '5', '6', '3', '6', '6']\n"
     ]
    }
   ],
   "source": [
    "import random as rnd\n",
    "\n",
    "arvottu_rivi = rnd.sample(range(1, 39), 10)\n",
    "arvottu_rivi_paanumerot = arvottu_rivi[:7]\n",
    "arvottu_rivi_lisanumerot = arvottu_rivi[7:]\n",
    "\n",
    "print(\"Arvottu rivi:\", arvottu_rivi)\n",
    "print(\"Arvotut paanumerot:\", arvottu_rivi_paanumerot)\n",
    "print(\"Arvotut lisanumerot:\", arvottu_rivi_lisanumerot)\n",
    "\n",
    "print(\"Täytä lappu, eli anna numerot:\")\n",
    "annetut_numerot = []\n",
    "for x in range(7):\n",
    "    annetut_numerot.append(input(int))\n",
    "\n",
    "    \n",
    "print(\"Annettu rivi: \", annetut_numerot)\n",
    "\n",
    "\n"
   ]
  },
  {
   "cell_type": "code",
   "execution_count": null,
   "metadata": {},
   "outputs": [],
   "source": []
  }
 ],
 "metadata": {
  "kernelspec": {
   "display_name": "Python 3",
   "language": "python",
   "name": "python3"
  },
  "language_info": {
   "codemirror_mode": {
    "name": "ipython",
    "version": 3
   },
   "file_extension": ".py",
   "mimetype": "text/x-python",
   "name": "python",
   "nbconvert_exporter": "python",
   "pygments_lexer": "ipython3",
   "version": "3.6.6"
  }
 },
 "nbformat": 4,
 "nbformat_minor": 2
}
