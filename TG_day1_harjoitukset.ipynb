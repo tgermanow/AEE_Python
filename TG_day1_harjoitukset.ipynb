{
 "cells": [
  {
   "cell_type": "markdown",
   "metadata": {},
   "source": [
    "# Neliön pinta-ala"
   ]
  },
  {
   "cell_type": "code",
   "execution_count": 4,
   "metadata": {},
   "outputs": [],
   "source": [
    "%reset -f"
   ]
  },
  {
   "cell_type": "code",
   "execution_count": null,
   "metadata": {},
   "outputs": [],
   "source": [
    "x = float(input(\"Sivu1:\"))\n",
    "y = float(input(\"Sivu2:\"))\n",
    "\n",
    "ala = x*y\n",
    "\n",
    "print (\"Ala:\",ala)"
   ]
  },
  {
   "cell_type": "markdown",
   "metadata": {},
   "source": [
    "# Ala ja tilavuus"
   ]
  },
  {
   "cell_type": "code",
   "execution_count": 7,
   "metadata": {},
   "outputs": [
    {
     "name": "stdout",
     "output_type": "stream",
     "text": [
      "Sivu1:5\n",
      "Sivu2:5\n",
      "Sivu3:5\n",
      "Ala: 25.0\n",
      "Tilavuus: 125.0\n"
     ]
    }
   ],
   "source": [
    "x = float(input(\"Sivu1:\"))\n",
    "y = float(input(\"Sivu2:\"))\n",
    "z = float(input(\"Sivu3:\"))\n",
    "\n",
    "ala = x*y\n",
    "tilavuus = ala*z\n",
    "\n",
    "print (\"Ala:\", ala)\n",
    "print (\"Tilavuus:\", tilavuus)"
   ]
  },
  {
   "cell_type": "markdown",
   "metadata": {},
   "source": [
    "# 3. Salasanavertailu"
   ]
  },
  {
   "cell_type": "code",
   "execution_count": 11,
   "metadata": {},
   "outputs": [
    {
     "name": "stdout",
     "output_type": "stream",
     "text": [
      "SalasanaTesti\n",
      "Anna salasana uudestaantesti\n",
      "Salasanat ei vastaa\n"
     ]
    }
   ],
   "source": [
    "pwd1 = input(\"Salasana\")\n",
    "if pwd1 == input(\"Anna salasana uudestaan\"):\n",
    "    print(\"Match\")\n",
    "else:\n",
    "    print(\"Salasanat ei vastaa\")"
   ]
  },
  {
   "cell_type": "markdown",
   "metadata": {},
   "source": [
    "# 4. Kysyy luvun\n",
    "LASKEE JA TULOSTAA SEN NELIÖN, \n",
    "TOISTAA KUNNES ANNETAAN LUKU -1"
   ]
  },
  {
   "cell_type": "code",
   "execution_count": 13,
   "metadata": {},
   "outputs": [
    {
     "name": "stdout",
     "output_type": "stream",
     "text": [
      "Anna luku (-1 lopettaa):5.5\n",
      "Neliö:  30.25\n",
      "Anna luku (-1 lopettaa):3\n",
      "Neliö:  9.0\n",
      "Anna luku (-1 lopettaa):-1\n"
     ]
    }
   ],
   "source": [
    "luku = 0\n",
    "while luku != -1:\n",
    "    luku = float(input(\"Anna luku (-1 lopettaa):\"))\n",
    "    if (luku != -1):\n",
    "        print(\"Neliö: \", luku*luku)"
   ]
  },
  {
   "cell_type": "markdown",
   "metadata": {},
   "source": [
    "# 5. Kertotaulu\n",
    "KYSYY LUVUN\n",
    "• TULOSTAA LUVUN KERTOTAULUN (1 – 10 *)\n",
    "”FOR” SILMUKALLA"
   ]
  },
  {
   "cell_type": "code",
   "execution_count": 24,
   "metadata": {},
   "outputs": [
    {
     "name": "stdout",
     "output_type": "stream",
     "text": [
      "Anna luku:3\n",
      "1 \t* \t3.0:\t 3.0\n",
      "2 \t* \t3.0:\t 6.0\n",
      "3 \t* \t3.0:\t 9.0\n",
      "4 \t* \t3.0:\t 12.0\n",
      "5 \t* \t3.0:\t 15.0\n",
      "6 \t* \t3.0:\t 18.0\n",
      "7 \t* \t3.0:\t 21.0\n",
      "8 \t* \t3.0:\t 24.0\n",
      "9 \t* \t3.0:\t 27.0\n",
      "10 \t* \t3.0:\t 30.0\n"
     ]
    }
   ],
   "source": [
    "luku = float(input(\"Anna luku:\"))\n",
    "\n",
    "for x in range(1,11):\n",
    "        print(\"{} \\t* \\t{}\".format(x, luku) + \":\\t\", x*luku)\n",
    "    "
   ]
  },
  {
   "cell_type": "markdown",
   "metadata": {},
   "source": [
    "# Lottokuponki"
   ]
  },
  {
   "cell_type": "code",
   "execution_count": 57,
   "metadata": {},
   "outputs": [
    {
     "name": "stdout",
     "output_type": "stream",
     "text": [
      "Anna numero:5\n",
      "Anna numero:5\n",
      "Samaa numeroa ei valita toista kertaa\n",
      "Anna numero:3\n",
      "Anna numero:2\n",
      "Anna numero:6\n",
      "Anna numero:9\n",
      "Anna numero:7\n",
      "Anna numero:3\n",
      "Samaa numeroa ei valita toista kertaa\n",
      "Anna numero:1\n",
      "Annettu rivi [5, 3, 2, 6, 9, 7, 1]\n",
      "Annettu rivi str formatted: 5,3,2,6,9,7,1\n"
     ]
    }
   ],
   "source": [
    "annettu_rivi = []\n",
    "hi = 39\n",
    "lo = 1\n",
    "\n",
    "# FIXME: Olettaa aina Int typea, try-catch puuttuu\n",
    "while (len(annettu_rivi) < 7):\n",
    "    n = int(input(\"Anna numero:\"))    \n",
    "    if (hi >= n >= lo):\n",
    "        if (n not in annettu_rivi):\n",
    "            annettu_rivi.append(n)\n",
    "        else: \n",
    "            print(\"Samaa numeroa ei valita toista kertaa\")\n",
    "    else: \n",
    "        print(\"Numeron tulee olla valilta {} ja {}\".format(lo, hi))\n",
    "    \n",
    "print(\"Annettu rivi {}\".format(annettu_rivi))\n",
    "\n",
    "# Formatoidaan tehtävänannon mukaisesti myös str \n",
    "annettu_rivi_str = \",\".join(map(str, annettu_rivi))\n",
    "print(\"Annettu rivi str formatted:\", annettu_rivi_str) \n"
   ]
  },
  {
   "cell_type": "code",
   "execution_count": null,
   "metadata": {},
   "outputs": [],
   "source": []
  }
 ],
 "metadata": {
  "kernelspec": {
   "display_name": "Python 3",
   "language": "python",
   "name": "python3"
  },
  "language_info": {
   "codemirror_mode": {
    "name": "ipython",
    "version": 3
   },
   "file_extension": ".py",
   "mimetype": "text/x-python",
   "name": "python",
   "nbconvert_exporter": "python",
   "pygments_lexer": "ipython3",
   "version": "3.6.6"
  }
 },
 "nbformat": 4,
 "nbformat_minor": 2
}
